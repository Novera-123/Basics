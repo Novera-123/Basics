{
 "cells": [
  {
   "cell_type": "code",
   "execution_count": 2,
   "id": "59f2161e",
   "metadata": {},
   "outputs": [
    {
     "name": "stdout",
     "output_type": "stream",
     "text": [
      "Novera Maaz\n",
      "32\n",
      "True\n",
      "Smith Novera Maaz\n",
      "57\n",
      "False\n"
     ]
    }
   ],
   "source": [
    "#Novera Maaz\n",
    "#DS COHORT 4-VIOLET\n",
    "\n",
    "\n",
    "#Task 01 variable data types\n",
    "\n",
    "Name = \"Novera Maaz\"\n",
    "Age = 32\n",
    "Student = True \n",
    "print (Name)\n",
    "print (Age)\n",
    "print (Student)\n",
    "age_25 = Age + 25 #age added 25\n",
    "print(f\"Smith {Name}\") \n",
    "print(age_25)\n",
    "print(not Student)"
   ]
  },
  {
   "cell_type": "code",
   "execution_count": 5,
   "id": "03f947de",
   "metadata": {},
   "outputs": [
    {
     "name": "stdout",
     "output_type": "stream",
     "text": [
      "The area of rectangle is :  17.875\n"
     ]
    }
   ],
   "source": [
    "#Task 02  (a) Expressions and Operators\n",
    "\n",
    "length = 5.5 #units\n",
    "width = 3.25 #units\n",
    "\n",
    "area = length * width   #calculate the area of rectangle\n",
    "print(\"The area of rectangle is : \",area)\n",
    "\n",
    "\n"
   ]
  },
  {
   "cell_type": "code",
   "execution_count": 6,
   "id": "8b9ae448",
   "metadata": {},
   "outputs": [
    {
     "name": "stdout",
     "output_type": "stream",
     "text": [
      "The temperature in farenhiet is :  72.0\n"
     ]
    }
   ],
   "source": [
    "#Task 02(b)\n",
    "\n",
    "celcius = 40\n",
    "farenhiet = celcius *9/5 \n",
    "print (\"The temperature in farenhiet is : \", farenhiet)"
   ]
  },
  {
   "cell_type": "code",
   "execution_count": 10,
   "id": "085b60c0",
   "metadata": {},
   "outputs": [
    {
     "name": "stdout",
     "output_type": "stream",
     "text": [
      "The area of circle with radius 5 is: 78.53975\n"
     ]
    }
   ],
   "source": [
    "#Task 02 (c)\n",
    "\n",
    "radius = 5\n",
    "area= 3.14159 *(radius**2)\n",
    "\n",
    "print (f\"The area of circle with radius {radius} is: {area}\")\n"
   ]
  },
  {
   "cell_type": "code",
   "execution_count": 11,
   "id": "34c1645d",
   "metadata": {},
   "outputs": [
    {
     "name": "stdout",
     "output_type": "stream",
     "text": [
      "['apple', 'banana', 'orange', 'grape', 'kiwi']\n"
     ]
    }
   ],
   "source": [
    "#Task 03 (a) Introduction to data structures\n",
    "\n",
    "fruits = [\"apple\",\"banana\",\"orange\",\"grape\",\"kiwi\"]\n",
    "print (fruits)\n",
    "\n"
   ]
  },
  {
   "cell_type": "code",
   "execution_count": 12,
   "id": "6917a8c8",
   "metadata": {},
   "outputs": [
    {
     "name": "stdout",
     "output_type": "stream",
     "text": [
      "('january', 'february', 'March')\n"
     ]
    }
   ],
   "source": [
    "#task 03(b)\n",
    "months= (\"january\",\"february\",\"March\")\n",
    "print(months)"
   ]
  },
  {
   "cell_type": "code",
   "execution_count": 14,
   "id": "967c793e",
   "metadata": {},
   "outputs": [
    {
     "name": "stdout",
     "output_type": "stream",
     "text": [
      "the total sum of list 426\n",
      "The average of list is 53.25\n"
     ]
    }
   ],
   "source": [
    "#Task 04(a) List manipulation\n",
    "\n",
    "numbers=[12,34,45,67,89,100,23,56]\n",
    "total_sum=sum(numbers)\n",
    "average= total_sum/8\n",
    "print (f\"the total sum of list {total_sum}\")\n",
    "\n",
    "print(f\"The average of list is {average}\")"
   ]
  },
  {
   "cell_type": "code",
   "execution_count": 18,
   "id": "78aff9b8",
   "metadata": {},
   "outputs": [
    {
     "name": "stdout",
     "output_type": "stream",
     "text": [
      "['banana', 'orange', 'grape']\n"
     ]
    }
   ],
   "source": [
    "#Task 04(b)\n",
    "fruits = [\"apple\",\"banana\",\"orange\",\"grape\",\"kiwi\"]\n",
    "fruits.pop(0)\n",
    "fruits.pop(3)\n",
    "print(fruits)\n"
   ]
  },
  {
   "cell_type": "code",
   "execution_count": 20,
   "id": "5d6b86ef",
   "metadata": {},
   "outputs": [
    {
     "name": "stdout",
     "output_type": "stream",
     "text": [
      "{'Japan:Tokyo', 'USA: Washongton DC', 'France:Paris'}\n"
     ]
    }
   ],
   "source": [
    "#Task 05(a)\n",
    "capitals={\"USA: Washongton DC\",\"France:Paris\",\"Japan:Tokyo\"}\n",
    "print(capitals)"
   ]
  },
  {
   "cell_type": "code",
   "execution_count": 24,
   "id": "df0298e8",
   "metadata": {},
   "outputs": [
    {
     "name": "stdout",
     "output_type": "stream",
     "text": [
      "{'USA': 'Washongton DC', 'France': 'Paris', 'Japan': 'Tokyo', 'Germany': 'Berlin'}\n"
     ]
    }
   ],
   "source": [
    "#Task 05(b)\n",
    "capitals={\"USA\": \"Washongton DC\",\"France\":\"Paris\",\"Japan\":\"Tokyo\"}\n",
    "capitals[\"Germany\"]=\"Berlin\"\n",
    "print(capitals)"
   ]
  },
  {
   "cell_type": "code",
   "execution_count": 25,
   "id": "4993318f",
   "metadata": {},
   "outputs": [
    {
     "name": "stdout",
     "output_type": "stream",
     "text": [
      "France is in the dictionary\n"
     ]
    }
   ],
   "source": [
    "#task 05(c)\n",
    "capitals={\"USA\": \"Washongton DC\",\"France\":\"Paris\",\"Japan\":\"Tokyo\"}\n",
    "if \"France\" in capitals:\n",
    "    print(\"France is in the dictionary\")\n",
    "else:\n",
    "    print(\"France is not in the dictionary\")\n"
   ]
  },
  {
   "cell_type": "code",
   "execution_count": 28,
   "id": "6412a862",
   "metadata": {},
   "outputs": [
    {
     "name": "stdout",
     "output_type": "stream",
     "text": [
      "Please enter a number: 6\n",
      "The entered number is even\n"
     ]
    }
   ],
   "source": [
    "#Task 06 (a) Comaparision operators, Logical operators\n",
    "number=int(input(\"Please enter a number: \"))\n",
    "if number %2==0:\n",
    "    print(\"The entered number is even\")\n",
    "else:\n",
    "    print(\"The number is Odd\")\n"
   ]
  },
  {
   "cell_type": "code",
   "execution_count": 32,
   "id": "08850cb9",
   "metadata": {},
   "outputs": [
    {
     "name": "stdout",
     "output_type": "stream",
     "text": [
      "Elegible for admission\n"
     ]
    }
   ],
   "source": [
    "#task 06 (b) \n",
    "age = 25\n",
    "CGPA = 3.4\n",
    "if age >18  and CGPA >= 3.0:\n",
    "    print(\"Elegible for admission\")\n",
    "else:\n",
    "    print(\"Not eligible for admission\")"
   ]
  },
  {
   "cell_type": "code",
   "execution_count": 33,
   "id": "ed2d0671",
   "metadata": {},
   "outputs": [
    {
     "name": "stdout",
     "output_type": "stream",
     "text": [
      "('apple', 'banana', 'orange', 'grape', 'kiwi')\n"
     ]
    }
   ],
   "source": [
    "#Task 7(a) Advanced data types\n",
    "fruits_set=(\"apple\",\"banana\",\"orange\",\"grape\",\"kiwi\")\n",
    "print(fruits_set)\n"
   ]
  },
  {
   "cell_type": "code",
   "execution_count": 37,
   "id": "e5146b1c",
   "metadata": {},
   "outputs": [
    {
     "name": "stdout",
     "output_type": "stream",
     "text": [
      "{1, 2, 3, 4, 5, 6, 7}\n"
     ]
    }
   ],
   "source": [
    "#Task 7 (b) #Union of two sets\n",
    "set1={1,2,3,4,5}\n",
    "set2={3,4,5,6,7}\n",
    "\n",
    "union_Set=set1.union(set2)\n",
    "print(union_Set)"
   ]
  },
  {
   "cell_type": "code",
   "execution_count": 38,
   "id": "b3e33595",
   "metadata": {},
   "outputs": [
    {
     "name": "stdout",
     "output_type": "stream",
     "text": [
      "{3, 4, 5}\n"
     ]
    }
   ],
   "source": [
    "#intersection of two sets\n",
    "set1={1,2,3,4,5}\n",
    "set2={3,4,5,6,7}\n",
    "\n",
    "intersection_set=set1.intersection(set2)\n",
    "print(intersection_set)"
   ]
  },
  {
   "cell_type": "code",
   "execution_count": 39,
   "id": "12df2a9e",
   "metadata": {},
   "outputs": [
    {
     "name": "stdout",
     "output_type": "stream",
     "text": [
      "{1, 2}\n"
     ]
    }
   ],
   "source": [
    "#Difference between 2 sets\n",
    "set1={1,2,3,4,5}\n",
    "set2={3,4,5,6,7}\n",
    "\n",
    "difference_Set=set1.difference(set2)\n",
    "print(difference_Set)"
   ]
  },
  {
   "cell_type": "code",
   "execution_count": 41,
   "id": "d134b52c",
   "metadata": {},
   "outputs": [
    {
     "name": "stdout",
     "output_type": "stream",
     "text": [
      "False\n"
     ]
    }
   ],
   "source": [
    "#Check subset\n",
    "set1={1,2,3,4,5}\n",
    "set2={3,4,5,6,7}\n",
    "\n",
    "sub_set=set1.issubset(set2)\n",
    "print(sub_set)"
   ]
  },
  {
   "cell_type": "code",
   "execution_count": 42,
   "id": "4ea73552",
   "metadata": {},
   "outputs": [
    {
     "name": "stdout",
     "output_type": "stream",
     "text": [
      "The length of my string is 39\n"
     ]
    }
   ],
   "source": [
    "#Task 8 Strings manipulation\n",
    "my_string = \"Python programming is fun and powerful!\"\n",
    "length_string=len(my_string)\n",
    "print(f\"The length of my string is {length_string}\")\n"
   ]
  },
  {
   "cell_type": "code",
   "execution_count": 44,
   "id": "96049f28",
   "metadata": {},
   "outputs": [
    {
     "name": "stdout",
     "output_type": "stream",
     "text": [
      "The original string is: Python programming is fun and powerful!\n",
      " string in upper case is : PYTHON PROGRAMMING IS FUN AND POWERFUL!\n"
     ]
    }
   ],
   "source": [
    "#Convert to Upper case\n",
    "my_string = \"Python programming is fun and powerful!\"\n",
    "string_case=my_string.upper()\n",
    "print(f\"The original string is: {my_string}\\n string in upper case is : {string_case}\")"
   ]
  },
  {
   "cell_type": "code",
   "execution_count": 45,
   "id": "3a98a5ea",
   "metadata": {},
   "outputs": [
    {
     "name": "stdout",
     "output_type": "stream",
     "text": [
      "Python programming is exciting and powerful!\n"
     ]
    }
   ],
   "source": [
    "#Replacing in a string\n",
    "my_string = \"Python programming is fun and powerful!\"\n",
    "string_replace = my_string.replace(\"fun\",\"exciting\")\n",
    "print (string_replace)\n"
   ]
  },
  {
   "cell_type": "code",
   "execution_count": 54,
   "id": "ebe3edde",
   "metadata": {},
   "outputs": [
    {
     "name": "stdout",
     "output_type": "stream",
     "text": [
      "Python is present\n"
     ]
    }
   ],
   "source": [
    "#check a word\n",
    "my_string = \"Python programming is fun and powerful!\"\n",
    "if \"Python\" in my_string:\n",
    "    print(\"Python is present\")\n",
    "else:\n",
    "    print(\"word not present\")"
   ]
  },
  {
   "cell_type": "code",
   "execution_count": 56,
   "id": "1bfb6932",
   "metadata": {},
   "outputs": [
    {
     "name": "stdout",
     "output_type": "stream",
     "text": [
      "['Python', 'programming', 'is', 'fun', 'and', 'powerful!']\n"
     ]
    }
   ],
   "source": [
    "#split in list\n",
    "my_string = \"Python programming is fun and powerful!\"\n",
    "list_string= my_string.split()\n",
    "print(list_string)"
   ]
  },
  {
   "cell_type": "code",
   "execution_count": null,
   "id": "4467f5ed",
   "metadata": {},
   "outputs": [],
   "source": []
  }
 ],
 "metadata": {
  "kernelspec": {
   "display_name": "Python 3 (ipykernel)",
   "language": "python",
   "name": "python3"
  },
  "language_info": {
   "codemirror_mode": {
    "name": "ipython",
    "version": 3
   },
   "file_extension": ".py",
   "mimetype": "text/x-python",
   "name": "python",
   "nbconvert_exporter": "python",
   "pygments_lexer": "ipython3",
   "version": "3.11.5"
  }
 },
 "nbformat": 4,
 "nbformat_minor": 5
}
